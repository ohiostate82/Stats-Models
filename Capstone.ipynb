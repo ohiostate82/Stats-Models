{
 "cells": [
  {
   "cell_type": "markdown",
   "metadata": {},
   "source": [
    "## CAPSTONE PROJECT - PROJECTING NBA SUCCESS FROM PLAYER BIOMETRICS"
   ]
  },
  {
   "cell_type": "code",
   "execution_count": 1,
   "metadata": {
    "collapsed": false
   },
   "outputs": [
    {
     "name": "stdout",
     "output_type": "stream",
     "text": [
      "<class 'pandas.core.frame.DataFrame'>\n",
      "RangeIndex: 200 entries, 0 to 199\n",
      "Data columns (total 45 columns):\n",
      "Player               200 non-null object\n",
      "Position             200 non-null object\n",
      "College              200 non-null object\n",
      "Draft_yr             200 non-null int64\n",
      "fnl_coll_rpi         200 non-null int64\n",
      "Still_in_league      200 non-null int64\n",
      "Tms_played_for       200 non-null int64\n",
      "Age_first_yr         200 non-null int64\n",
      "Draft_pick           200 non-null int64\n",
      "Hght_noshoes         200 non-null float64\n",
      "Hght_wtshoes         200 non-null float64\n",
      "Wingspan             200 non-null float64\n",
      "Standing_reach       200 non-null float64\n",
      "Vert_max             200 non-null float64\n",
      "Vert_maxreach        200 non-null float64\n",
      "Vert_nostep          200 non-null float64\n",
      "Vert_nostep_reach    200 non-null float64\n",
      "Weight               200 non-null int64\n",
      "Body_fat             200 non-null float64\n",
      "Hand_length          200 non-null float64\n",
      "Hand_width           200 non-null float64\n",
      "G                    200 non-null int64\n",
      "GS                   200 non-null int64\n",
      "MP                   200 non-null int64\n",
      "PER                  200 non-null float64\n",
      "FG                   200 non-null int64\n",
      "FGA                  200 non-null int64\n",
      "FG_pct               200 non-null float64\n",
      "three_pt             200 non-null int64\n",
      "three_pt_att         200 non-null int64\n",
      "three_pt_pct         200 non-null float64\n",
      "two_pt               200 non-null int64\n",
      "two_pt_att           200 non-null int64\n",
      "two_pt_pct           200 non-null float64\n",
      "FT                   200 non-null int64\n",
      "FTA                  200 non-null int64\n",
      "FT_pct               200 non-null float64\n",
      "ORB                  200 non-null int64\n",
      "DRB                  200 non-null int64\n",
      "TRB                  200 non-null int64\n",
      "AST                  200 non-null int64\n",
      "STL                  200 non-null int64\n",
      "BLK                  200 non-null int64\n",
      "TOV                  200 non-null int64\n",
      "PTS                  200 non-null int64\n",
      "dtypes: float64(16), int64(26), object(3)\n",
      "memory usage: 70.4+ KB\n"
     ]
    }
   ],
   "source": [
    "#data import and cleaning\n",
    "import warnings\n",
    "warnings.filterwarnings(\"ignore\")\n",
    "import pandas as pd\n",
    "df = pd.read_csv('NBA_clean.csv')\n",
    "df.info()"
   ]
  },
  {
   "cell_type": "code",
   "execution_count": 3,
   "metadata": {
    "collapsed": false
   },
   "outputs": [],
   "source": [
    "# split out by position \n",
    "Guards = df.loc[df['Position'].isin(['PG','SG'])]\n",
    "Forwards = df.loc[df['Position'].isin(['SF','PF'])]\n",
    "Centers = df.loc[df['Position'].isin(['C'])]"
   ]
  },
  {
   "cell_type": "code",
   "execution_count": 4,
   "metadata": {
    "collapsed": false
   },
   "outputs": [],
   "source": [
    "#X and y variables for model\n",
    "\n",
    "# ALL PLAYERS\n",
    "X_OV = df.drop(['Player','Still_in_league','College','Draft_yr','Tms_played_for','Position','G','GS','MP','PER','FG','FGA','FG_pct','three_pt',\n",
    "               'three_pt_att','three_pt_pct','two_pt','two_pt_att','two_pt_pct','FT','FTA','FT_pct','ORB','DRB','TRB',\n",
    "               'AST','STL','BLK','TOV','PTS'],axis=1)\n",
    "y_OV = df['Still_in_league'].values\n",
    "\n",
    "# GUARDS\n",
    "X_Guards = Guards.drop(['Player','Still_in_league','College','Draft_yr','Tms_played_for','Position','G','GS','MP','PER','FG','FGA','FG_pct','three_pt',\n",
    "               'three_pt_att','three_pt_pct','two_pt','two_pt_att','two_pt_pct','FT','FTA','FT_pct','ORB','DRB','TRB',\n",
    "               'AST','STL','BLK','TOV','PTS'],axis=1)\n",
    "y_Guards = Guards['Still_in_league'].values\n",
    "\n",
    "# FORWARDS\n",
    "X_Forwards = Forwards.drop(['Player','Still_in_league','College','Draft_yr','Tms_played_for','Position','G','GS','MP','PER','FG','FGA','FG_pct','three_pt',\n",
    "               'three_pt_att','three_pt_pct','two_pt','two_pt_att','two_pt_pct','FT','FTA','FT_pct','ORB','DRB','TRB',\n",
    "               'AST','STL','BLK','TOV','PTS'],axis=1)\n",
    "y_Forwards = Forwards['Still_in_league'].values\n",
    "\n",
    "# CENTERS\n",
    "X_Centers = Centers.drop(['Player','Still_in_league','College','Draft_yr','Tms_played_for','Position','G','GS','MP','PER','FG','FGA','FG_pct','three_pt',\n",
    "               'three_pt_att','three_pt_pct','two_pt','two_pt_att','two_pt_pct','FT','FTA','FT_pct','ORB','DRB','TRB',\n",
    "               'AST','STL','BLK','TOV','PTS'],axis=1)\n",
    "y_Centers = Centers['Still_in_league'].values"
   ]
  },
  {
   "cell_type": "code",
   "execution_count": 10,
   "metadata": {
    "collapsed": false
   },
   "outputs": [
    {
     "data": {
      "text/plain": [
       "array([[-8.90151277e-01,  1.55538513e+00,  6.71697125e-01, ...,\n",
       "         1.36823771e+00, -5.89872375e-01, -3.32037211e-01],\n",
       "       [-8.90151277e-01,  8.71699359e-01, -2.07056268e-01, ...,\n",
       "        -1.18194472e+00,  2.10360879e+00,  6.74136155e-01],\n",
       "       [-8.90151277e-01, -1.86304373e+00, -1.41534218e+00, ...,\n",
       "        -3.17476101e-01, -5.89872375e-01,  3.35391122e-03],\n",
       "       ...,\n",
       "       [ 2.83987806e+00, -4.95672184e-01,  4.52008777e-01, ...,\n",
       "         2.87651934e-01,  4.87520091e-01, -6.67428332e-01],\n",
       "       [ 3.73868030e+00, -4.95672184e-01,  1.66029469e+00, ...,\n",
       "         1.14758209e-01,  2.10360879e+00,  3.35726513e+00],\n",
       "       [ 6.27779666e+00, -1.17935796e+00,  4.52008777e-01, ...,\n",
       "         2.70816407e+00,  1.02621632e+00, -6.67428332e-01]])"
      ]
     },
     "execution_count": 10,
     "metadata": {},
     "output_type": "execute_result"
    }
   ],
   "source": [
    "# scale data\n",
    "from sklearn.preprocessing import StandardScaler\n",
    "scl_obj = StandardScaler()\n",
    "\n",
    "#scale X to make the mean 0 and unit standard deviation\n",
    "\n",
    "# AlL PLAYERS\n",
    "scl_obj.fit(X_OV) \n",
    "X_scaled_OV = scl_obj.transform(X_OV)\n",
    "\n",
    "# GUARDS\n",
    "scl_obj.fit(X_Guards) \n",
    "X_scaled_Guards = scl_obj.transform(X_Guards)\n",
    "\n",
    "# FORWARDS\n",
    "scl_obj.fit(X_Forwards) \n",
    "X_scaled_Forwards = scl_obj.transform(X_Forwards)\n",
    "\n",
    "# CENTERS\n",
    "scl_obj.fit(X_Centers) \n",
    "X_scaled_Centers = scl_obj.transform(X_Centers)\n",
    "X_scaled_OV\n"
   ]
  },
  {
   "cell_type": "markdown",
   "metadata": {},
   "source": [
    "## Test Linear Regression Model \n",
    "## TESTING CONFIRMED THAT WE NEED MORE DATA TO PERFORM THIS TYPE OF ANALYSIS - PARTICULARY COLLEGE STATS AND QUALITY OF COLLEGE. WE WON'T RUN UNLESS WE DECIDE TO PURSUE LATER ON"
   ]
  },
  {
   "cell_type": "code",
   "execution_count": 309,
   "metadata": {
    "collapsed": false
   },
   "outputs": [
    {
     "data": {
      "text/html": [
       "<table class=\"simpletable\">\n",
       "<caption>OLS Regression Results</caption>\n",
       "<tr>\n",
       "  <th>Dep. Variable:</th>            <td>y</td>        <th>  R-squared:         </th> <td>   0.138</td>\n",
       "</tr>\n",
       "<tr>\n",
       "  <th>Model:</th>                   <td>OLS</td>       <th>  Adj. R-squared:    </th> <td>   0.068</td>\n",
       "</tr>\n",
       "<tr>\n",
       "  <th>Method:</th>             <td>Least Squares</td>  <th>  F-statistic:       </th> <td>   1.970</td>\n",
       "</tr>\n",
       "<tr>\n",
       "  <th>Date:</th>             <td>Mon, 12 Mar 2018</td> <th>  Prob (F-statistic):</th>  <td>0.0308</td> \n",
       "</tr>\n",
       "<tr>\n",
       "  <th>Time:</th>                 <td>22:48:44</td>     <th>  Log-Likelihood:    </th> <td> -166.44</td>\n",
       "</tr>\n",
       "<tr>\n",
       "  <th>No. Observations:</th>      <td>   160</td>      <th>  AIC:               </th> <td>   356.9</td>\n",
       "</tr>\n",
       "<tr>\n",
       "  <th>Df Residuals:</th>          <td>   148</td>      <th>  BIC:               </th> <td>   393.8</td>\n",
       "</tr>\n",
       "<tr>\n",
       "  <th>Df Model:</th>              <td>    12</td>      <th>                     </th>     <td> </td>   \n",
       "</tr>\n",
       "<tr>\n",
       "  <th>Covariance Type:</th>      <td>nonrobust</td>    <th>                     </th>     <td> </td>   \n",
       "</tr>\n",
       "</table>\n",
       "<table class=\"simpletable\">\n",
       "<tr>\n",
       "   <td></td>      <th>coef</th>     <th>std err</th>      <th>t</th>      <th>P>|t|</th> <th>[95.0% Conf. Int.]</th> \n",
       "</tr>\n",
       "<tr>\n",
       "  <th>x1</th>  <td>    0.0193</td> <td>    0.063</td> <td>    0.305</td> <td> 0.761</td> <td>   -0.106     0.144</td>\n",
       "</tr>\n",
       "<tr>\n",
       "  <th>x2</th>  <td>   -0.2672</td> <td>    0.061</td> <td>   -4.356</td> <td> 0.000</td> <td>   -0.388    -0.146</td>\n",
       "</tr>\n",
       "<tr>\n",
       "  <th>x3</th>  <td>   -0.3111</td> <td>    0.680</td> <td>   -0.458</td> <td> 0.648</td> <td>   -1.655     1.033</td>\n",
       "</tr>\n",
       "<tr>\n",
       "  <th>x4</th>  <td>    0.4323</td> <td>    0.696</td> <td>    0.621</td> <td> 0.535</td> <td>   -0.943     1.807</td>\n",
       "</tr>\n",
       "<tr>\n",
       "  <th>x5</th>  <td>    0.0105</td> <td>    0.171</td> <td>    0.062</td> <td> 0.951</td> <td>   -0.327     0.348</td>\n",
       "</tr>\n",
       "<tr>\n",
       "  <th>x6</th>  <td>   -0.0111</td> <td>    0.081</td> <td>   -0.136</td> <td> 0.892</td> <td>   -0.172     0.150</td>\n",
       "</tr>\n",
       "<tr>\n",
       "  <th>x7</th>  <td>   -0.0313</td> <td>    0.088</td> <td>   -0.354</td> <td> 0.724</td> <td>   -0.206     0.143</td>\n",
       "</tr>\n",
       "<tr>\n",
       "  <th>x8</th>  <td>   -0.0408</td> <td>    0.071</td> <td>   -0.575</td> <td> 0.566</td> <td>   -0.181     0.099</td>\n",
       "</tr>\n",
       "<tr>\n",
       "  <th>x9</th>  <td>   -0.0126</td> <td>    0.073</td> <td>   -0.174</td> <td> 0.862</td> <td>   -0.156     0.131</td>\n",
       "</tr>\n",
       "<tr>\n",
       "  <th>x10</th> <td>   -0.0201</td> <td>    0.091</td> <td>   -0.220</td> <td> 0.826</td> <td>   -0.201     0.160</td>\n",
       "</tr>\n",
       "<tr>\n",
       "  <th>x11</th> <td>   -0.0952</td> <td>    0.120</td> <td>   -0.797</td> <td> 0.427</td> <td>   -0.331     0.141</td>\n",
       "</tr>\n",
       "<tr>\n",
       "  <th>x12</th> <td>    0.0172</td> <td>    0.077</td> <td>    0.222</td> <td> 0.825</td> <td>   -0.136     0.170</td>\n",
       "</tr>\n",
       "<tr>\n",
       "  <th>x13</th> <td>    0.0021</td> <td>    0.088</td> <td>    0.024</td> <td> 0.981</td> <td>   -0.172     0.176</td>\n",
       "</tr>\n",
       "<tr>\n",
       "  <th>x14</th> <td>   -0.0047</td> <td>    0.071</td> <td>   -0.066</td> <td> 0.947</td> <td>   -0.145     0.135</td>\n",
       "</tr>\n",
       "</table>\n",
       "<table class=\"simpletable\">\n",
       "<tr>\n",
       "  <th>Omnibus:</th>       <td> 7.838</td> <th>  Durbin-Watson:     </th> <td>   0.778</td>\n",
       "</tr>\n",
       "<tr>\n",
       "  <th>Prob(Omnibus):</th> <td> 0.020</td> <th>  Jarque-Bera (JB):  </th> <td>   3.652</td>\n",
       "</tr>\n",
       "<tr>\n",
       "  <th>Skew:</th>          <td>-0.048</td> <th>  Prob(JB):          </th> <td>   0.161</td>\n",
       "</tr>\n",
       "<tr>\n",
       "  <th>Kurtosis:</th>      <td> 2.266</td> <th>  Cond. No.          </th> <td>1.05e+16</td>\n",
       "</tr>\n",
       "</table>"
      ],
      "text/plain": [
       "<class 'statsmodels.iolib.summary.Summary'>\n",
       "\"\"\"\n",
       "                            OLS Regression Results                            \n",
       "==============================================================================\n",
       "Dep. Variable:                      y   R-squared:                       0.138\n",
       "Model:                            OLS   Adj. R-squared:                  0.068\n",
       "Method:                 Least Squares   F-statistic:                     1.970\n",
       "Date:                Mon, 12 Mar 2018   Prob (F-statistic):             0.0308\n",
       "Time:                        22:48:44   Log-Likelihood:                -166.44\n",
       "No. Observations:                 160   AIC:                             356.9\n",
       "Df Residuals:                     148   BIC:                             393.8\n",
       "Df Model:                          12                                         \n",
       "Covariance Type:            nonrobust                                         \n",
       "==============================================================================\n",
       "                 coef    std err          t      P>|t|      [95.0% Conf. Int.]\n",
       "------------------------------------------------------------------------------\n",
       "x1             0.0193      0.063      0.305      0.761        -0.106     0.144\n",
       "x2            -0.2672      0.061     -4.356      0.000        -0.388    -0.146\n",
       "x3            -0.3111      0.680     -0.458      0.648        -1.655     1.033\n",
       "x4             0.4323      0.696      0.621      0.535        -0.943     1.807\n",
       "x5             0.0105      0.171      0.062      0.951        -0.327     0.348\n",
       "x6            -0.0111      0.081     -0.136      0.892        -0.172     0.150\n",
       "x7            -0.0313      0.088     -0.354      0.724        -0.206     0.143\n",
       "x8            -0.0408      0.071     -0.575      0.566        -0.181     0.099\n",
       "x9            -0.0126      0.073     -0.174      0.862        -0.156     0.131\n",
       "x10           -0.0201      0.091     -0.220      0.826        -0.201     0.160\n",
       "x11           -0.0952      0.120     -0.797      0.427        -0.331     0.141\n",
       "x12            0.0172      0.077      0.222      0.825        -0.136     0.170\n",
       "x13            0.0021      0.088      0.024      0.981        -0.172     0.176\n",
       "x14           -0.0047      0.071     -0.066      0.947        -0.145     0.135\n",
       "==============================================================================\n",
       "Omnibus:                        7.838   Durbin-Watson:                   0.778\n",
       "Prob(Omnibus):                  0.020   Jarque-Bera (JB):                3.652\n",
       "Skew:                          -0.048   Prob(JB):                        0.161\n",
       "Kurtosis:                       2.266   Cond. No.                     1.05e+16\n",
       "==============================================================================\n",
       "\n",
       "Warnings:\n",
       "[1] Standard Errors assume that the covariance matrix of the errors is correctly specified.\n",
       "[2] The smallest eigenvalue is 9.99e-30. This might indicate that there are\n",
       "strong multicollinearity problems or that the design matrix is singular.\n",
       "\"\"\""
      ]
     },
     "execution_count": 309,
     "metadata": {},
     "output_type": "execute_result"
    }
   ],
   "source": [
    "from sklearn import datasets, linear_model\n",
    "from sklearn.metrics import mean_squared_error, r2_score\n",
    "\n",
    "# test/training data\n",
    "X_train_LR_OV,X_test_LR_OV,y_train_LR_OV,y_test_LR_OV = train_test_split(X_scaled_OV,y_OV,test_size=0.2, random_state = 42)\n",
    "\n",
    "\n",
    "# Note the difference in argument order\n",
    "model = sm.OLS(y_train_LR_OV, X_train_LR_OV).fit()\n",
    "predictions = model.predict(X_test_LR_OV) # make the predictions by the model\n",
    "\n",
    "# Print out the statistics\n",
    "model.summary()\n"
   ]
  },
  {
   "cell_type": "markdown",
   "metadata": {},
   "source": [
    "### ALL PLAYERS"
   ]
  },
  {
   "cell_type": "code",
   "execution_count": 6,
   "metadata": {
    "collapsed": false
   },
   "outputs": [
    {
     "data": {
      "text/plain": [
       "0.725"
      ]
     },
     "execution_count": 6,
     "metadata": {},
     "output_type": "execute_result"
    }
   ],
   "source": [
    "from sklearn.feature_selection import SelectFromModel\n",
    "from sklearn.linear_model import LogisticRegression\n",
    "logreg = LogisticRegression()\n",
    "from sklearn.model_selection import train_test_split\n",
    "\n",
    "#create a train/test split of 80%/20%\n",
    "# assign static random seed =42\n",
    "X_train_OV,X_test_OV,y_train_OV,y_test_OV = train_test_split(X_scaled_OV,y_OV,test_size=0.2, random_state = 42)\n",
    "\n",
    "#fit model\n",
    "logreg_OV = logreg.fit(X_train_OV,y_train_OV)\n",
    "\n",
    "#Predict on test data set\n",
    "logreg_test_OV =logreg_OV.predict(X_test_OV)\n",
    "\n",
    "# Print Score\n",
    "logreg_OV.score(X_test_OV, y_test_OV)"
   ]
  },
  {
   "cell_type": "code",
   "execution_count": 7,
   "metadata": {
    "collapsed": false
   },
   "outputs": [
    {
     "name": "stdout",
     "output_type": "stream",
     "text": [
      "Draft_pick has weight of -1.4503749692444883\n",
      "Vert_nostep_reach has weight of -0.3169919336540555\n",
      "Standing_reach has weight of -0.29292879688206624\n",
      "Vert_maxreach has weight of -0.28615576114650626\n",
      "Body_fat has weight of -0.21859201175865528\n",
      "Weight has weight of -0.21508740131813\n",
      "Age_first_yr has weight of -0.12527927107627757\n",
      "fnl_coll_rpi has weight of -0.06240150284794398\n",
      "Vert_nostep has weight of -0.006165811868010986\n",
      "Vert_max has weight of 0.07371606419312031\n",
      "Hand_width has weight of 0.1223169141638058\n",
      "Hand_length has weight of 0.15196811554305156\n",
      "Hght_noshoes has weight of 0.24254967213306927\n",
      "Hght_wtshoes has weight of 0.300548805117858\n",
      "Wingspan has weight of 0.5725976446766041\n"
     ]
    }
   ],
   "source": [
    "# sort and print out model coefficients\n",
    "zip_vars = zip(logreg_OV.coef_.T, X_OV) # combine attributes\n",
    "zip_vars = sorted(zip_vars)\n",
    "for coef, name in zip_vars:\n",
    "    print(name, 'has weight of', coef[0]) # now print them out"
   ]
  },
  {
   "cell_type": "code",
   "execution_count": 8,
   "metadata": {
    "collapsed": false
   },
   "outputs": [
    {
     "ename": "NameError",
     "evalue": "name 'plt' is not defined",
     "output_type": "error",
     "traceback": [
      "\u001b[0;31m---------------------------------------------------------------------------\u001b[0m",
      "\u001b[0;31mNameError\u001b[0m                                 Traceback (most recent call last)",
      "\u001b[0;32m<ipython-input-8-a59f4464d7b3>\u001b[0m in \u001b[0;36m<module>\u001b[0;34m()\u001b[0m\n\u001b[1;32m      1\u001b[0m \u001b[1;31m#Plot the coefficients\u001b[0m\u001b[1;33m\u001b[0m\u001b[1;33m\u001b[0m\u001b[0m\n\u001b[1;32m      2\u001b[0m \u001b[0mget_ipython\u001b[0m\u001b[1;33m(\u001b[0m\u001b[1;33m)\u001b[0m\u001b[1;33m.\u001b[0m\u001b[0mmagic\u001b[0m\u001b[1;33m(\u001b[0m\u001b[1;34m'matplotlib inline'\u001b[0m\u001b[1;33m)\u001b[0m\u001b[1;33m\u001b[0m\u001b[0m\n\u001b[0;32m----> 3\u001b[0;31m \u001b[0mplt\u001b[0m\u001b[1;33m.\u001b[0m\u001b[0mstyle\u001b[0m\u001b[1;33m.\u001b[0m\u001b[0muse\u001b[0m\u001b[1;33m(\u001b[0m\u001b[1;34m'ggplot'\u001b[0m\u001b[1;33m)\u001b[0m\u001b[1;33m\u001b[0m\u001b[0m\n\u001b[0m\u001b[1;32m      4\u001b[0m \u001b[1;33m\u001b[0m\u001b[0m\n\u001b[1;32m      5\u001b[0m \u001b[0mweights\u001b[0m \u001b[1;33m=\u001b[0m \u001b[0mpd\u001b[0m\u001b[1;33m.\u001b[0m\u001b[0mSeries\u001b[0m\u001b[1;33m(\u001b[0m\u001b[0mlogreg_OV\u001b[0m\u001b[1;33m.\u001b[0m\u001b[0mcoef_\u001b[0m\u001b[1;33m[\u001b[0m\u001b[1;36m0\u001b[0m\u001b[1;33m]\u001b[0m\u001b[1;33m,\u001b[0m\u001b[0mindex\u001b[0m\u001b[1;33m=\u001b[0m\u001b[0mX_OV\u001b[0m\u001b[1;33m.\u001b[0m\u001b[0mcolumns\u001b[0m\u001b[1;33m)\u001b[0m\u001b[1;33m\u001b[0m\u001b[0m\n",
      "\u001b[0;31mNameError\u001b[0m: name 'plt' is not defined"
     ]
    }
   ],
   "source": [
    "#Plot the coefficients\n",
    "%matplotlib inline\n",
    "plt.style.use('ggplot')\n",
    "\n",
    "weights = pd.Series(logreg_OV.coef_[0],index=X_OV.columns)\n",
    "weights.plot(kind='bar')\n",
    "weights.plot(figsize=(7,7))\n",
    "plt.xticks(rotation=90)\n",
    "plt.show()"
   ]
  },
  {
   "cell_type": "code",
   "execution_count": 9,
   "metadata": {
    "collapsed": false
   },
   "outputs": [
    {
     "name": "stdout",
     "output_type": "stream",
     "text": [
      "             precision    recall  f1-score   support\n",
      "\n",
      "          0       0.56      0.77      0.65        13\n",
      "          1       0.86      0.70      0.78        27\n",
      "\n",
      "avg / total       0.76      0.72      0.73        40\n",
      "\n"
     ]
    }
   ],
   "source": [
    "#classification report\n",
    "from sklearn.metrics import classification_report\n",
    "print(classification_report(y_test_OV,logreg_test_OV))"
   ]
  },
  {
   "cell_type": "code",
   "execution_count": 310,
   "metadata": {
    "collapsed": false
   },
   "outputs": [
    {
     "name": "stdout",
     "output_type": "stream",
     "text": [
      "0.653735632183908\n"
     ]
    }
   ],
   "source": [
    "from sklearn.metrics import roc_auc_score\n",
    "print(roc_auc_score(y_test_OV, logreg_test_OV))"
   ]
  },
  {
   "cell_type": "code",
   "execution_count": 315,
   "metadata": {
    "collapsed": false
   },
   "outputs": [
    {
     "name": "stdout",
     "output_type": "stream",
     "text": [
      "Confusion matrix\n",
      "[[ 7  5]\n",
      " [ 8 21]]\n"
     ]
    },
    {
     "data": {
      "image/png": "[encoded data removed]",
      "text/plain": [
       "<matplotlib.figure.Figure at 0x10cd4c18>"
      ]
     },
     "metadata": {},
     "output_type": "display_data"
    }
   ],
   "source": [
    "# Confusion matrix\n",
    "import itertools\n",
    "def plot_confusion_matrix(cm, classes,\n",
    "                          normalize=False,\n",
    "                          title='Confusion matrix',\n",
    "                          cmap=plt.cm.Blues):\n",
    "    \"\"\"\n",
    "    This function prints and plots the confusion matrix.\n",
    "    Normalization can be applied by setting `normalize=True`.\n",
    "    \"\"\"\n",
    "    if normalize:\n",
    "        cm = cm.astype('float') / cm.sum(axis=1)[:, np.newaxis]\n",
    "        print(\"Confusion Matrix\")\n",
    "    else:\n",
    "        print('Confusion matrix')\n",
    "\n",
    "    print(cm)\n",
    "\n",
    "    plt.imshow(cm, interpolation='nearest', cmap=cmap)\n",
    "    plt.title(title)\n",
    "    plt.colorbar()\n",
    "    tick_marks = np.arange(len(classes))\n",
    "    plt.xticks(tick_marks, classes, rotation=45)\n",
    "    plt.yticks(tick_marks, classes)\n",
    "\n",
    "    fmt = '.2f' if normalize else 'd'\n",
    "    thresh = cm.max() / 2.\n",
    "    for i, j in itertools.product(range(cm.shape[0]), range(cm.shape[1])):\n",
    "        plt.text(j, i, format(cm[i, j], fmt),\n",
    "                 horizontalalignment=\"center\",\n",
    "                 color=\"white\" if cm[i, j] > thresh else \"black\")\n",
    "\n",
    "    plt.tight_layout()\n",
    "    plt.ylabel('True label')\n",
    "    plt.xlabel('Predicted label')\n",
    "from sklearn import metrics as mt\n",
    "import matplotlib.pyplot as plt\n",
    "\n",
    "\n",
    "log_conf = mt.confusion_matrix(y_test_OV,logreg_test_OV)\n",
    "\n",
    "class_names = ['No Success', 'Success']\n",
    "plot_confusion_matrix(log_conf, classes=class_names)\n",
    "\n",
    "plt.show()\n",
    "\n",
    "\n"
   ]
  },
  {
   "cell_type": "markdown",
   "metadata": {},
   "source": [
    " Below is the total cost score from the Logistic Regression model. <br> **Cost Score = (7)(-1) + (5)(10) + (8)(15) + (21)(-1) = 156**"
   ]
  },
  {
   "cell_type": "markdown",
   "metadata": {},
   "source": [
    "### GUARDS"
   ]
  },
  {
   "cell_type": "code",
   "execution_count": 306,
   "metadata": {
    "collapsed": false
   },
   "outputs": [
    {
     "data": {
      "text/plain": [
       "0.47368421052631576"
      ]
     },
     "execution_count": 306,
     "metadata": {},
     "output_type": "execute_result"
    }
   ],
   "source": [
    "#create a train/test split of 80%/20%\n",
    "# assign static random seed =42\n",
    "X_train_Guards,X_test_Guards,y_train_Guards,y_test_Guards=train_test_split(X_scaled_Guards,y_Guards,\n",
    "test_size=0.2, random_state = 42)\n",
    "\n",
    "#fit model\n",
    "logreg_Guards = logreg.fit(X_train_Guards,y_train_Guards)\n",
    "\n",
    "#Predict on test data set\n",
    "logreg_Guards.predict(X_test_Guards)\n",
    "\n",
    "#Print Score\n",
    "logreg_Guards.score(X_test_Guards, y_test_Guards)"
   ]
  },
  {
   "cell_type": "markdown",
   "metadata": {},
   "source": [
    "### FORWARDS"
   ]
  },
  {
   "cell_type": "code",
   "execution_count": 307,
   "metadata": {
    "collapsed": false
   },
   "outputs": [
    {
     "data": {
      "text/plain": [
       "0.5"
      ]
     },
     "execution_count": 307,
     "metadata": {},
     "output_type": "execute_result"
    }
   ],
   "source": [
    "#create a train/test split of 80%/20%\n",
    "# assign static random seed =42\n",
    "X_train_Forwards,X_test_Forwards,y_train_Forwards,y_test_Forwards = train_test_split(X_scaled_Forwards,y_Forwards,\n",
    "test_size=0.2, random_state = 42)\n",
    "\n",
    "#fit model\n",
    "logreg_Forwards = logreg.fit(X_train_Forwards,y_train_Forwards)\n",
    "\n",
    "#Predict on test data set\n",
    "logreg_Forwards.predict(X_test_Forwards)\n",
    "\n",
    "# Print score\n",
    "logreg_Forwards.score(X_test_Forwards, y_test_Forwards)"
   ]
  },
  {
   "cell_type": "markdown",
   "metadata": {},
   "source": [
    "### CENTERS"
   ]
  },
  {
   "cell_type": "code",
   "execution_count": 308,
   "metadata": {
    "collapsed": false
   },
   "outputs": [
    {
     "data": {
      "text/plain": [
       "0.5714285714285714"
      ]
     },
     "execution_count": 308,
     "metadata": {},
     "output_type": "execute_result"
    }
   ],
   "source": [
    "#create a train/test split of 80%/20%\n",
    "# assign static random seed =42\n",
    "X_train_Centers,X_test_Centers,y_train_Centers,y_test_Centers = train_test_split(X_scaled_Centers,y_Centers,\n",
    "test_size=0.2, random_state = 42)\n",
    "\n",
    "#fit model\n",
    "logreg_Centers = logreg.fit(X_train_Centers,y_train_Centers)\n",
    "\n",
    "#Predict on test data set\n",
    "logreg_Centers.predict(X_test_Centers)\n",
    "\n",
    "# Print score\n",
    "logreg_Centers.score(X_test_Centers, y_test_Centers)"
   ]
  },
  {
   "cell_type": "code",
   "execution_count": null,
   "metadata": {
    "collapsed": true
   },
   "outputs": [],
   "source": []
  }
 ],
 "metadata": {
  "kernelspec": {
   "display_name": "Python 3",
   "language": "python",
   "name": "python3"
  },
  "language_info": {
   "codemirror_mode": {
    "name": "ipython",
    "version": 3
   },
   "file_extension": ".py",
   "mimetype": "text/x-python",
   "name": "python",
   "nbconvert_exporter": "python",
   "pygments_lexer": "ipython3",
   "version": "3.6.0"
  }
 },
 "nbformat": 4,
 "nbformat_minor": 2
}
