{
 "cells": [
  {
   "cell_type": "markdown",
   "metadata": {},
   "source": [
    "## CAPSTONE PROJECT - PROJECTING NBA SUCCESS FROM PLAYER BIOMETRICS"
   ]
  },
  {
   "cell_type": "code",
   "execution_count": 12,
   "metadata": {
    "collapsed": false
   },
   "outputs": [],
   "source": [
    "#data import and cleaning\n",
    "import warnings\n",
    "warnings.filterwarnings(\"ignore\")\n",
    "import pandas as pd\n",
    "import csv\n",
    "df = pd.read_csv (\"https://raw.githubusercontent.com/ohiostate82/Stats-Models/master/NBA_clean.csv\")"
   ]
  },
  {
   "cell_type": "code",
   "execution_count": 13,
   "metadata": {
    "collapsed": false
   },
   "outputs": [],
   "source": [
    "# split out by position \n",
    "Guards = df.loc[df['Position'].isin(['PG','SG'])]\n",
    "Forwards = df.loc[df['Position'].isin(['SF','PF'])]\n",
    "Centers = df.loc[df['Position'].isin(['C'])]"
   ]
  },
  {
   "cell_type": "code",
   "execution_count": 16,
   "metadata": {
    "collapsed": false
   },
   "outputs": [],
   "source": [
    "#X and y variables for model\n",
    "\n",
    "# ALL PLAYERS\n",
    "X_OV = df.drop(['Player','Still_in_league','Position','College'],axis=1)\n",
    "y_OV = df['Still_in_league'].values\n",
    "\n",
    "# GUARDS\n",
    "X_Guards = Guards.drop(['Player','Still_in_league','Position','College'],axis=1)\n",
    "y_Guards = Guards['Still_in_league'].values\n",
    "\n",
    "# FORWARDS\n",
    "X_Forwards = Forwards.drop(['Player','Still_in_league','Position','College'],axis=1)\n",
    "y_Forwards = Forwards['Still_in_league'].values\n",
    "\n",
    "# CENTERS\n",
    "X_Centers = Centers.drop(['Player','Still_in_league','Position','College'],axis=1)\n",
    "y_Centers = Centers['Still_in_league'].values"
   ]
  },
  {
   "cell_type": "code",
   "execution_count": 17,
   "metadata": {
    "collapsed": false
   },
   "outputs": [],
   "source": [
    "# scale data\n",
    "from sklearn.preprocessing import StandardScaler\n",
    "scl_obj = StandardScaler()\n",
    "\n",
    "#scale X to make the mean 0 and unit standard deviation\n",
    "\n",
    "# AlL PLAYERS\n",
    "scl_obj.fit(X_OV) \n",
    "X_scaled_OV = scl_obj.transform(X_OV)\n",
    "\n",
    "# GUARDS\n",
    "scl_obj.fit(X_Guards) \n",
    "X_scaled_Guards = scl_obj.transform(X_Guards)\n",
    "\n",
    "# FORWARDS\n",
    "scl_obj.fit(X_Forwards) \n",
    "X_scaled_Forwards = scl_obj.transform(X_Forwards)\n",
    "\n",
    "# CENTERS\n",
    "scl_obj.fit(X_Centers) \n",
    "X_scaled_Centers = scl_obj.transform(X_Centers)\n"
   ]
  },
  {
   "cell_type": "markdown",
   "metadata": {},
   "source": [
    "## Test Linear Regression Model \n",
    "## TESTING CONFIRMED THAT WE NEED MORE DATA TO PERFORM THIS TYPE OF ANALYSIS - PARTICULARY COLLEGE STATS AND QUALITY OF COLLEGE. WE WON'T RUN UNLESS WE DECIDE TO PURSUE LATER ON"
   ]
  },
  {
   "cell_type": "code",
   "execution_count": 332,
   "metadata": {
    "collapsed": false
   },
   "outputs": [
    {
     "data": {
      "text/html": [
       "<table class=\"simpletable\">\n",
       "<caption>OLS Regression Results</caption>\n",
       "<tr>\n",
       "  <th>Dep. Variable:</th>            <td>y</td>        <th>  R-squared:         </th> <td>   0.138</td>\n",
       "</tr>\n",
       "<tr>\n",
       "  <th>Model:</th>                   <td>OLS</td>       <th>  Adj. R-squared:    </th> <td>   0.068</td>\n",
       "</tr>\n",
       "<tr>\n",
       "  <th>Method:</th>             <td>Least Squares</td>  <th>  F-statistic:       </th> <td>   1.970</td>\n",
       "</tr>\n",
       "<tr>\n",
       "  <th>Date:</th>             <td>Tue, 13 Mar 2018</td> <th>  Prob (F-statistic):</th>  <td>0.0308</td> \n",
       "</tr>\n",
       "<tr>\n",
       "  <th>Time:</th>                 <td>09:45:33</td>     <th>  Log-Likelihood:    </th> <td> -166.44</td>\n",
       "</tr>\n",
       "<tr>\n",
       "  <th>No. Observations:</th>      <td>   160</td>      <th>  AIC:               </th> <td>   356.9</td>\n",
       "</tr>\n",
       "<tr>\n",
       "  <th>Df Residuals:</th>          <td>   148</td>      <th>  BIC:               </th> <td>   393.8</td>\n",
       "</tr>\n",
       "<tr>\n",
       "  <th>Df Model:</th>              <td>    12</td>      <th>                     </th>     <td> </td>   \n",
       "</tr>\n",
       "<tr>\n",
       "  <th>Covariance Type:</th>      <td>nonrobust</td>    <th>                     </th>     <td> </td>   \n",
       "</tr>\n",
       "</table>\n",
       "<table class=\"simpletable\">\n",
       "<tr>\n",
       "   <td></td>      <th>coef</th>     <th>std err</th>      <th>t</th>      <th>P>|t|</th> <th>[95.0% Conf. Int.]</th> \n",
       "</tr>\n",
       "<tr>\n",
       "  <th>x1</th>  <td>    0.0193</td> <td>    0.063</td> <td>    0.305</td> <td> 0.761</td> <td>   -0.106     0.144</td>\n",
       "</tr>\n",
       "<tr>\n",
       "  <th>x2</th>  <td>   -0.2672</td> <td>    0.061</td> <td>   -4.356</td> <td> 0.000</td> <td>   -0.388    -0.146</td>\n",
       "</tr>\n",
       "<tr>\n",
       "  <th>x3</th>  <td>   -0.3111</td> <td>    0.680</td> <td>   -0.458</td> <td> 0.648</td> <td>   -1.655     1.033</td>\n",
       "</tr>\n",
       "<tr>\n",
       "  <th>x4</th>  <td>    0.4323</td> <td>    0.696</td> <td>    0.621</td> <td> 0.535</td> <td>   -0.943     1.807</td>\n",
       "</tr>\n",
       "<tr>\n",
       "  <th>x5</th>  <td>    0.0105</td> <td>    0.171</td> <td>    0.062</td> <td> 0.951</td> <td>   -0.327     0.348</td>\n",
       "</tr>\n",
       "<tr>\n",
       "  <th>x6</th>  <td>   -0.0111</td> <td>    0.081</td> <td>   -0.136</td> <td> 0.892</td> <td>   -0.172     0.150</td>\n",
       "</tr>\n",
       "<tr>\n",
       "  <th>x7</th>  <td>   -0.0313</td> <td>    0.088</td> <td>   -0.354</td> <td> 0.724</td> <td>   -0.206     0.143</td>\n",
       "</tr>\n",
       "<tr>\n",
       "  <th>x8</th>  <td>   -0.0408</td> <td>    0.071</td> <td>   -0.575</td> <td> 0.566</td> <td>   -0.181     0.099</td>\n",
       "</tr>\n",
       "<tr>\n",
       "  <th>x9</th>  <td>   -0.0126</td> <td>    0.073</td> <td>   -0.174</td> <td> 0.862</td> <td>   -0.156     0.131</td>\n",
       "</tr>\n",
       "<tr>\n",
       "  <th>x10</th> <td>   -0.0201</td> <td>    0.091</td> <td>   -0.220</td> <td> 0.826</td> <td>   -0.201     0.160</td>\n",
       "</tr>\n",
       "<tr>\n",
       "  <th>x11</th> <td>   -0.0952</td> <td>    0.120</td> <td>   -0.797</td> <td> 0.427</td> <td>   -0.331     0.141</td>\n",
       "</tr>\n",
       "<tr>\n",
       "  <th>x12</th> <td>    0.0172</td> <td>    0.077</td> <td>    0.222</td> <td> 0.825</td> <td>   -0.136     0.170</td>\n",
       "</tr>\n",
       "<tr>\n",
       "  <th>x13</th> <td>    0.0021</td> <td>    0.088</td> <td>    0.024</td> <td> 0.981</td> <td>   -0.172     0.176</td>\n",
       "</tr>\n",
       "<tr>\n",
       "  <th>x14</th> <td>   -0.0047</td> <td>    0.071</td> <td>   -0.066</td> <td> 0.947</td> <td>   -0.145     0.135</td>\n",
       "</tr>\n",
       "</table>\n",
       "<table class=\"simpletable\">\n",
       "<tr>\n",
       "  <th>Omnibus:</th>       <td> 7.838</td> <th>  Durbin-Watson:     </th> <td>   0.778</td>\n",
       "</tr>\n",
       "<tr>\n",
       "  <th>Prob(Omnibus):</th> <td> 0.020</td> <th>  Jarque-Bera (JB):  </th> <td>   3.652</td>\n",
       "</tr>\n",
       "<tr>\n",
       "  <th>Skew:</th>          <td>-0.048</td> <th>  Prob(JB):          </th> <td>   0.161</td>\n",
       "</tr>\n",
       "<tr>\n",
       "  <th>Kurtosis:</th>      <td> 2.266</td> <th>  Cond. No.          </th> <td>1.05e+16</td>\n",
       "</tr>\n",
       "</table>"
      ],
      "text/plain": [
       "<class 'statsmodels.iolib.summary.Summary'>\n",
       "\"\"\"\n",
       "                            OLS Regression Results                            \n",
       "==============================================================================\n",
       "Dep. Variable:                      y   R-squared:                       0.138\n",
       "Model:                            OLS   Adj. R-squared:                  0.068\n",
       "Method:                 Least Squares   F-statistic:                     1.970\n",
       "Date:                Tue, 13 Mar 2018   Prob (F-statistic):             0.0308\n",
       "Time:                        09:45:33   Log-Likelihood:                -166.44\n",
       "No. Observations:                 160   AIC:                             356.9\n",
       "Df Residuals:                     148   BIC:                             393.8\n",
       "Df Model:                          12                                         \n",
       "Covariance Type:            nonrobust                                         \n",
       "==============================================================================\n",
       "                 coef    std err          t      P>|t|      [95.0% Conf. Int.]\n",
       "------------------------------------------------------------------------------\n",
       "x1             0.0193      0.063      0.305      0.761        -0.106     0.144\n",
       "x2            -0.2672      0.061     -4.356      0.000        -0.388    -0.146\n",
       "x3            -0.3111      0.680     -0.458      0.648        -1.655     1.033\n",
       "x4             0.4323      0.696      0.621      0.535        -0.943     1.807\n",
       "x5             0.0105      0.171      0.062      0.951        -0.327     0.348\n",
       "x6            -0.0111      0.081     -0.136      0.892        -0.172     0.150\n",
       "x7            -0.0313      0.088     -0.354      0.724        -0.206     0.143\n",
       "x8            -0.0408      0.071     -0.575      0.566        -0.181     0.099\n",
       "x9            -0.0126      0.073     -0.174      0.862        -0.156     0.131\n",
       "x10           -0.0201      0.091     -0.220      0.826        -0.201     0.160\n",
       "x11           -0.0952      0.120     -0.797      0.427        -0.331     0.141\n",
       "x12            0.0172      0.077      0.222      0.825        -0.136     0.170\n",
       "x13            0.0021      0.088      0.024      0.981        -0.172     0.176\n",
       "x14           -0.0047      0.071     -0.066      0.947        -0.145     0.135\n",
       "==============================================================================\n",
       "Omnibus:                        7.838   Durbin-Watson:                   0.778\n",
       "Prob(Omnibus):                  0.020   Jarque-Bera (JB):                3.652\n",
       "Skew:                          -0.048   Prob(JB):                        0.161\n",
       "Kurtosis:                       2.266   Cond. No.                     1.05e+16\n",
       "==============================================================================\n",
       "\n",
       "Warnings:\n",
       "[1] Standard Errors assume that the covariance matrix of the errors is correctly specified.\n",
       "[2] The smallest eigenvalue is 9.99e-30. This might indicate that there are\n",
       "strong multicollinearity problems or that the design matrix is singular.\n",
       "\"\"\""
      ]
     },
     "execution_count": 332,
     "metadata": {},
     "output_type": "execute_result"
    }
   ],
   "source": [
    "from sklearn import datasets, linear_model\n",
    "from sklearn.metrics import mean_squared_error, r2_score\n",
    "\n",
    "# test/training data\n",
    "X_train_LR_OV,X_test_LR_OV,y_train_LR_OV,y_test_LR_OV = train_test_split(X_scaled_OV,y_OV,test_size=0.2, random_state = 42)\n",
    "\n",
    "\n",
    "# Note the difference in argument order\n",
    "model = sm.OLS(y_train_LR_OV, X_train_LR_OV).fit()\n",
    "predictions = model.predict(X_test_LR_OV) # make the predictions by the model\n",
    "\n",
    "# Print out the statistics\n",
    "model.summary()\n"
   ]
  },
  {
   "cell_type": "markdown",
   "metadata": {},
   "source": [
    "###  Logistic Regression - All Players Only Biometric Stats"
   ]
  },
  {
   "cell_type": "code",
   "execution_count": 22,
   "metadata": {
    "collapsed": false
   },
   "outputs": [],
   "source": [
    "from sklearn.feature_selection import SelectFromModel\n",
    "from sklearn.linear_model import LogisticRegression\n",
    "logreg = LogisticRegression()\n",
    "from sklearn.model_selection import train_test_split\n",
    "from sklearn.metrics import make_scorer, f1_score\n",
    "from sklearn.model_selection import GridSearchCV\n",
    "\n",
    "#create a train/test split of 80%/20%\n",
    "# assign static random seed =42\n",
    "X_train_OV,X_test_OV,y_train_OV,y_test_OV = train_test_split(X_scaled_OV,y_OV,test_size=0.2, random_state = 42)\n",
    "\n",
    "\n",
    "# Parameter grid search for C variable\n",
    "log_scorer = make_scorer(f1_score, pos_label = 1)\n",
    "log_param_grid = {'C': [0.001, 0.01, 0.1, 1, 2,10,1000] }\n",
    "logreg = LogisticRegression(random_state = 0, class_weight = 'balanced')\n",
    "logclf = GridSearchCV(logreg, log_param_grid, scoring = log_scorer, cv = 10)\n",
    "\n",
    "#fit model\n",
    "logclf.fit(X_train_OV,y_train_OV)\n",
    "\n",
    "#Predict using Test data and get training data predictions\n",
    "log_grid_model = logclf.best_estimator_\n",
    "log_grid_model.fit(X_train_OV, y_train_OV)\n",
    "log_test = log_grid_model.predict(X_test_OV)"
   ]
  },
  {
   "cell_type": "code",
   "execution_count": 24,
   "metadata": {
    "collapsed": false
   },
   "outputs": [
    {
     "name": "stdout",
     "output_type": "stream",
     "text": [
      "0.718952850877193\n",
      "{'C': 0.1}\n"
     ]
    }
   ],
   "source": [
    "# Print best paramter of C and score\n",
    "print(logclf.best_score_)\n",
    "print(logclf.best_params_)"
   ]
  },
  {
   "cell_type": "code",
   "execution_count": 28,
   "metadata": {
    "collapsed": false
   },
   "outputs": [
    {
     "name": "stdout",
     "output_type": "stream",
     "text": [
      "Draft_pick has weight of -0.9734973369811513\n",
      "Age_first_yr has weight of -0.18495182870194057\n",
      "agility has weight of -0.16408359835065842\n",
      "Body_fat has weight of -0.14467433532217958\n",
      "Weight has weight of -0.06847604023854148\n",
      "Hand_width has weight of -0.045457489974989544\n",
      "Vert_max has weight of -0.026302705285078783\n",
      "Hand_length has weight of -0.02547689171629107\n",
      "Vert_nostep has weight of -0.01963009630929545\n",
      "Vert_maxreach has weight of -3.226666211772613e-05\n",
      "Vert_nostep_reach has weight of 0.00766428087104909\n",
      "Wingspan has weight of 0.019216692811131742\n",
      "Standing_reach has weight of 0.019349381464686885\n",
      "Hght_noshoes has weight of 0.07614274757855076\n",
      "Hght_wtshoes has weight of 0.0830518420263784\n",
      "sprint has weight of 0.16829505281627397\n"
     ]
    }
   ],
   "source": [
    "# sort and print out model coefficients\n",
    "zip_vars = zip(log_grid_model.coef_.T, X_OV) # combine attributes\n",
    "zip_vars = sorted(zip_vars)\n",
    "for coef, name in zip_vars:\n",
    "    print(name, 'has weight of', coef[0]) # now print them out"
   ]
  },
  {
   "cell_type": "code",
   "execution_count": 32,
   "metadata": {
    "collapsed": false
   },
   "outputs": [
    {
     "data": {
      "image/png": "[encoded data removed]",
      "text/plain": [
       "<matplotlib.figure.Figure at 0x134fc1d0>"
      ]
     },
     "metadata": {},
     "output_type": "display_data"
    }
   ],
   "source": [
    "#Plot the coefficients\n",
    "import matplotlib.pyplot as plt\n",
    "%matplotlib inline\n",
    "plt.style.use('ggplot')\n",
    "\n",
    "weights = pd.Series(log_grid_model.coef_[0],index=X_OV.columns)\n",
    "weights.plot(kind='bar')\n",
    "weights.plot(figsize=(7,7))\n",
    "plt.xticks(rotation=90)\n",
    "plt.show()"
   ]
  },
  {
   "cell_type": "code",
   "execution_count": 33,
   "metadata": {
    "collapsed": false
   },
   "outputs": [
    {
     "name": "stdout",
     "output_type": "stream",
     "text": [
      "             precision    recall  f1-score   support\n",
      "\n",
      "          0       0.50      0.75      0.60        12\n",
      "          1       0.87      0.69      0.77        29\n",
      "\n",
      "avg / total       0.76      0.71      0.72        41\n",
      "\n"
     ]
    }
   ],
   "source": [
    "#classification report\n",
    "from sklearn.metrics import classification_report\n",
    "print(classification_report(y_test_OV,logreg_test_OV))"
   ]
  },
  {
   "cell_type": "code",
   "execution_count": 34,
   "metadata": {
    "collapsed": false
   },
   "outputs": [
    {
     "name": "stdout",
     "output_type": "stream",
     "text": [
      "0.7198275862068966\n"
     ]
    }
   ],
   "source": [
    "from sklearn.metrics import roc_auc_score\n",
    "print(roc_auc_score(y_test_OV, logreg_test_OV))"
   ]
  },
  {
   "cell_type": "code",
   "execution_count": 36,
   "metadata": {
    "collapsed": false
   },
   "outputs": [
    {
     "name": "stdout",
     "output_type": "stream",
     "text": [
      "Confusion matrix\n",
      "[[ 9  3]\n",
      " [ 9 20]]\n"
     ]
    },
    {
     "data": {
      "image/png": "[encoded data removed]",
      "text/plain": [
       "<matplotlib.figure.Figure at 0x147a8518>"
      ]
     },
     "metadata": {},
     "output_type": "display_data"
    }
   ],
   "source": [
    "# Confusion matrix\n",
    "import itertools\n",
    "import numpy as np\n",
    "def plot_confusion_matrix(cm, classes,\n",
    "                          normalize=False,\n",
    "                          title='Confusion matrix',\n",
    "                          cmap=plt.cm.Blues):\n",
    "    \"\"\"\n",
    "    This function prints and plots the confusion matrix.\n",
    "    Normalization can be applied by setting `normalize=True`.\n",
    "    \"\"\"\n",
    "    if normalize:\n",
    "        cm = cm.astype('float') / cm.sum(axis=1)[:, np.newaxis]\n",
    "        print(\"Confusion Matrix\")\n",
    "    else:\n",
    "        print('Confusion matrix')\n",
    "\n",
    "    print(cm)\n",
    "\n",
    "    plt.imshow(cm, interpolation='nearest', cmap=cmap)\n",
    "    plt.title(title)\n",
    "    plt.colorbar()\n",
    "    tick_marks = np.arange(len(classes))\n",
    "    plt.xticks(tick_marks, classes, rotation=45)\n",
    "    plt.yticks(tick_marks, classes)\n",
    "\n",
    "    fmt = '.2f' if normalize else 'd'\n",
    "    thresh = cm.max() / 2.\n",
    "    for i, j in itertools.product(range(cm.shape[0]), range(cm.shape[1])):\n",
    "        plt.text(j, i, format(cm[i, j], fmt),\n",
    "                 horizontalalignment=\"center\",\n",
    "                 color=\"white\" if cm[i, j] > thresh else \"black\")\n",
    "\n",
    "    plt.tight_layout()\n",
    "    plt.ylabel('True label')\n",
    "    plt.xlabel('Predicted label')\n",
    "from sklearn import metrics as mt\n",
    "import matplotlib.pyplot as plt\n",
    "\n",
    "\n",
    "log_conf = mt.confusion_matrix(y_test_OV,logreg_test_OV)\n",
    "\n",
    "class_names = ['No Success', 'Success']\n",
    "plot_confusion_matrix(log_conf, classes=class_names)\n",
    "\n",
    "plt.show()"
   ]
  },
  {
   "cell_type": "markdown",
   "metadata": {},
   "source": [
    " Below is the total cost score from the Logistic Regression model. <br> **Cost Score = (9)(-1) + (3)(10) + (9)(15) + (20)(-1) = 136**"
   ]
  },
  {
   "cell_type": "markdown",
   "metadata": {},
   "source": [
    "###  Logistic Regression - All Players w/ College Stats"
   ]
  },
  {
   "cell_type": "code",
   "execution_count": 18,
   "metadata": {
    "collapsed": true
   },
   "outputs": [],
   "source": [
    "from sklearn.feature_selection import SelectFromModel\n",
    "from sklearn.linear_model import LogisticRegression\n",
    "logreg = LogisticRegression()\n",
    "from sklearn.model_selection import train_test_split\n",
    "from sklearn.metrics import make_scorer, f1_score\n",
    "from sklearn.model_selection import GridSearchCV\n",
    "\n",
    "#create a train/test split of 80%/20%\n",
    "# assign static random seed =42\n",
    "X_train_OV,X_test_OV,y_train_OV,y_test_OV = train_test_split(X_scaled_OV,y_OV,test_size=0.2, random_state = 42)\n",
    "\n",
    "\n",
    "# Parameter grid search for C variable\n",
    "log_scorer = make_scorer(f1_score, pos_label = 1)\n",
    "log_param_grid = {'C': [0.001, 0.01, 0.1, 1, 2,10,1000] }\n",
    "logreg = LogisticRegression(random_state = 0, class_weight = 'balanced')\n",
    "logclf = GridSearchCV(logreg, log_param_grid, scoring = log_scorer, cv = 10)\n",
    "\n",
    "#fit model\n",
    "logclf.fit(X_train_OV,y_train_OV)\n",
    "\n",
    "#Predict using Test data and get training data predictions\n",
    "log_grid_model = logclf.best_estimator_\n",
    "log_grid_model.fit(X_train_OV, y_train_OV)\n",
    "log_test = log_grid_model.predict(X_test_OV)"
   ]
  },
  {
   "cell_type": "code",
   "execution_count": 19,
   "metadata": {
    "collapsed": false
   },
   "outputs": [
    {
     "name": "stdout",
     "output_type": "stream",
     "text": [
      "0.748102894808178\n",
      "{'C': 2}\n"
     ]
    }
   ],
   "source": [
    "# Print best paramter of C and score\n",
    "print(logclf.best_score_)\n",
    "print(logclf.best_params_)"
   ]
  },
  {
   "cell_type": "code",
   "execution_count": 20,
   "metadata": {
    "collapsed": false
   },
   "outputs": [
    {
     "name": "stdout",
     "output_type": "stream",
     "text": [
      "Draft_pick has weight of -1.6544581016970923\n",
      "ast has weight of -0.5572311493886805\n",
      "Vert_nostep has weight of -0.4756463605085011\n",
      "Age_first_yr has weight of -0.44981896962151324\n",
      "Hght_noshoes has weight of -0.2800217730657808\n",
      "Body_fat has weight of -0.24370038735409527\n",
      "Vert_nostep_reach has weight of -0.23599813633283195\n",
      "ft_pct has weight of -0.17538590232686582\n",
      "Wingspan has weight of -0.1405326370534764\n",
      "Hand_length has weight of -0.08417259459465042\n",
      "Weight has weight of -0.04893288775713707\n",
      "Vert_max has weight of -0.0014418067725880139\n",
      "games has weight of 9.805986206558271e-05\n",
      "fnl_coll_rpi has weight of 0.019778911937565348\n",
      "Hand_width has weight of 0.02712487128679683\n",
      "Hght_wtshoes has weight of 0.038330873016301927\n",
      "Standing_reach has weight of 0.07293191736301906\n",
      "Vert_maxreach has weight of 0.08539955078079042\n",
      "pts_ppg has weight of 0.24920029752771844\n",
      "fg2_pct has weight of 0.37434159225236063\n",
      "fg3_pct has weight of 0.5088874872358906\n",
      "Tms_played_for has weight of 0.8606567991301468\n",
      "trb has weight of 1.1505932822164295\n",
      "Draft_yr has weight of 1.3877088761301533\n"
     ]
    }
   ],
   "source": [
    "# sort and print out model coefficients\n",
    "zip_vars = zip(log_grid_model.coef_.T, X_OV) # combine attributes\n",
    "zip_vars = sorted(zip_vars)\n",
    "for coef, name in zip_vars:\n",
    "    print(name, 'has weight of', coef[0]) # now print them out"
   ]
  },
  {
   "cell_type": "code",
   "execution_count": 21,
   "metadata": {
    "collapsed": false
   },
   "outputs": [
    {
     "data": {
      "image/png": "[encoded data removed]",
      "text/plain": [
       "<matplotlib.figure.Figure at 0x112ff710>"
      ]
     },
     "metadata": {},
     "output_type": "display_data"
    }
   ],
   "source": [
    "#Plot the coefficients\n",
    "import matplotlib.pyplot as plt\n",
    "%matplotlib inline\n",
    "plt.style.use('ggplot')\n",
    "\n",
    "weights = pd.Series(log_grid_model.coef_[0],index=X_OV.columns)\n",
    "weights.plot(kind='bar')\n",
    "weights.plot(figsize=(7,7))\n",
    "plt.xticks(rotation=90)\n",
    "plt.show()"
   ]
  },
  {
   "cell_type": "code",
   "execution_count": 23,
   "metadata": {
    "collapsed": false
   },
   "outputs": [
    {
     "name": "stdout",
     "output_type": "stream",
     "text": [
      "             precision    recall  f1-score   support\n",
      "\n",
      "          0       0.58      0.73      0.65        15\n",
      "          1       0.80      0.67      0.73        24\n",
      "\n",
      "avg / total       0.71      0.69      0.70        39\n",
      "\n"
     ]
    }
   ],
   "source": [
    "#classification report\n",
    "from sklearn.metrics import classification_report\n",
    "print(classification_report(y_test_OV,log_test))"
   ]
  },
  {
   "cell_type": "markdown",
   "metadata": {},
   "source": [
    "### Random Forest - All Players"
   ]
  },
  {
   "cell_type": "code",
   "execution_count": 346,
   "metadata": {
    "collapsed": false
   },
   "outputs": [
    {
     "data": {
      "text/plain": [
       "GridSearchCV(cv=10, error_score='raise',\n",
       "       estimator=RandomForestClassifier(bootstrap=True, class_weight='balanced',\n",
       "            criterion='gini', max_depth=None, max_features='auto',\n",
       "            max_leaf_nodes=None, min_impurity_decrease=0.0,\n",
       "            min_impurity_split=None, min_samples_leaf=1,\n",
       "            min_samples_split=2, min_weight_fraction_leaf=0.0,\n",
       "            n_estimators=10, n_jobs=-1, oob_score=False, random_state=0,\n",
       "            verbose=0, warm_start=False),\n",
       "       fit_params=None, iid=True, n_jobs=1,\n",
       "       param_grid={'n_estimators': [10, 20, 50, 100, 150, 200, 250], 'max_features': ['sqrt', 'log2'], 'max_depth': [5, 8, 10, 12], 'criterion': ['gini', 'entropy']},\n",
       "       pre_dispatch='2*n_jobs', refit=True, return_train_score=True,\n",
       "       scoring=make_scorer(f1_score, pos_label=1), verbose=0)"
      ]
     },
     "execution_count": 346,
     "metadata": {},
     "output_type": "execute_result"
    }
   ],
   "source": [
    "# Initiate Grid Search from scoring function and parameter grid \n",
    "from sklearn.metrics import make_scorer, f1_score\n",
    "from sklearn.model_selection import GridSearchCV\n",
    "rf_scorer = make_scorer(f1_score, pos_label = 1)\n",
    "\n",
    "rf_param_grid = param_grid = { \n",
    "    'n_estimators': [10,20, 50, 100, 150, 200, 250],\n",
    "    'max_features': ['sqrt', 'log2'],\n",
    "    'max_depth': [5,8,10,12],\n",
    "    'criterion' :['gini', 'entropy']}\n",
    "\n",
    "# Import RFC\n",
    "# Implement GridSearch and Train Model\n",
    "from sklearn.ensemble import RandomForestClassifier\n",
    "rf_OV = RandomForestClassifier(random_state=0, n_jobs=-1, class_weight='balanced')\n",
    "\n",
    "rfclf_OV = GridSearchCV(rf_OV, rf_param_grid, scoring = rf_scorer, cv = 10)\n",
    "rfclf_OV.fit(X_train_OV, y_train_OV)"
   ]
  },
  {
   "cell_type": "code",
   "execution_count": 347,
   "metadata": {
    "collapsed": false
   },
   "outputs": [
    {
     "name": "stdout",
     "output_type": "stream",
     "text": [
      "0.7451441563467492\n",
      "{'criterion': 'gini', 'max_depth': 12, 'max_features': 'sqrt', 'n_estimators': 20}\n"
     ]
    }
   ],
   "source": [
    "# Assign the best estimator and Train again\n",
    "# Predict in rf_test_OV step\n",
    "rf_grid_OV = rfclf_OV.best_estimator_\n",
    "rf_grid_OV.fit(X_train_OV, y_train_OV)\n",
    "rf_test_OV = rf_grid_OV.predict(X_test_OV)\n",
    "\n",
    "# Show Best Parameter/Score\n",
    "print(rfclf_OV.best_score_)\n",
    "print(rfclf_OV.best_params_)"
   ]
  },
  {
   "cell_type": "code",
   "execution_count": 349,
   "metadata": {
    "collapsed": false
   },
   "outputs": [
    {
     "name": "stdout",
     "output_type": "stream",
     "text": [
      "[[ 8  4]\n",
      " [12 17]]\n"
     ]
    }
   ],
   "source": [
    "# Confusion matrix\n",
    "rf_conf_OV = mt.confusion_matrix(y_test_OV,rf_test_OV)\n",
    "print(rf_conf_OV)"
   ]
  },
  {
   "cell_type": "code",
   "execution_count": 350,
   "metadata": {
    "collapsed": false
   },
   "outputs": [
    {
     "name": "stdout",
     "output_type": "stream",
     "text": [
      "             precision    recall  f1-score   support\n",
      "\n",
      "          0       0.40      0.67      0.50        12\n",
      "          1       0.81      0.59      0.68        29\n",
      "\n",
      "avg / total       0.69      0.61      0.63        41\n",
      "\n"
     ]
    }
   ],
   "source": [
    "# Classification report\n",
    "print(classification_report(y_test_OV,rf_test_OV))"
   ]
  },
  {
   "cell_type": "code",
   "execution_count": 351,
   "metadata": {
    "collapsed": false
   },
   "outputs": [
    {
     "name": "stdout",
     "output_type": "stream",
     "text": [
      "0.6264367816091956\n"
     ]
    }
   ],
   "source": [
    "# ROC score\n",
    "print(roc_auc_score(y_test_OV, rf_test_OV))"
   ]
  },
  {
   "cell_type": "code",
   "execution_count": 352,
   "metadata": {
    "collapsed": false
   },
   "outputs": [
    {
     "name": "stdout",
     "output_type": "stream",
     "text": [
      "Age_first_yr has weight of 0.032927028626873446\n",
      "Hand_length has weight of 0.03532272048735874\n",
      "Vert_max has weight of 0.036198314126604375\n",
      "Vert_nostep_reach has weight of 0.037430840476721995\n",
      "Vert_nostep has weight of 0.03834127185586604\n",
      "Standing_reach has weight of 0.04665236265223438\n",
      "Vert_maxreach has weight of 0.050164253779457546\n",
      "Hght_wtshoes has weight of 0.05049004144123294\n",
      "Body_fat has weight of 0.053068010196141116\n",
      "Hand_width has weight of 0.05814945608363729\n",
      "Hght_noshoes has weight of 0.06429647391459778\n",
      "Weight has weight of 0.06755366272707905\n",
      "Wingspan has weight of 0.0721632219044753\n",
      "Draft_pick has weight of 0.35724234172772007\n"
     ]
    }
   ],
   "source": [
    "# Sort coefficients by weight and print\n",
    "zip_vars = zip(rf_grid_OV.feature_importances_.T, X_OV)\n",
    "zip_vars = sorted(zip_vars)\n",
    "for coef, name in zip_vars:\n",
    "    print(name, 'has weight of', coef)"
   ]
  },
  {
   "cell_type": "markdown",
   "metadata": {},
   "source": [
    "### GUARDS"
   ]
  },
  {
   "cell_type": "code",
   "execution_count": 367,
   "metadata": {
    "collapsed": false
   },
   "outputs": [
    {
     "data": {
      "text/plain": [
       "0.5263157894736842"
      ]
     },
     "execution_count": 367,
     "metadata": {},
     "output_type": "execute_result"
    }
   ],
   "source": [
    "#create a train/test split of 80%/20%\n",
    "# assign static random seed =42\n",
    "X_train_Guards,X_test_Guards,y_train_Guards,y_test_Guards=train_test_split(X_scaled_Guards,y_Guards,\n",
    "test_size=0.2, random_state = 42)\n",
    "\n",
    "#fit model\n",
    "logreg_Guards = logreg.fit(X_train_Guards,y_train_Guards)\n",
    "\n",
    "#Predict on test data set\n",
    "logreg_Guards.predict(X_test_Guards)\n",
    "\n",
    "#Print Score\n",
    "logreg_Guards.score(X_test_Guards, y_test_Guards)"
   ]
  },
  {
   "cell_type": "markdown",
   "metadata": {},
   "source": [
    "### FORWARDS"
   ]
  },
  {
   "cell_type": "code",
   "execution_count": 368,
   "metadata": {
    "collapsed": false
   },
   "outputs": [
    {
     "data": {
      "text/plain": [
       "0.4375"
      ]
     },
     "execution_count": 368,
     "metadata": {},
     "output_type": "execute_result"
    }
   ],
   "source": [
    "#create a train/test split of 80%/20%\n",
    "# assign static random seed =42\n",
    "X_train_Forwards,X_test_Forwards,y_train_Forwards,y_test_Forwards = train_test_split(X_scaled_Forwards,y_Forwards,\n",
    "test_size=0.2, random_state = 42)\n",
    "\n",
    "#fit model\n",
    "logreg_Forwards = logreg.fit(X_train_Forwards,y_train_Forwards)\n",
    "\n",
    "#Predict on test data set\n",
    "logreg_Forwards.predict(X_test_Forwards)\n",
    "\n",
    "# Print score\n",
    "logreg_Forwards.score(X_test_Forwards, y_test_Forwards)"
   ]
  },
  {
   "cell_type": "markdown",
   "metadata": {},
   "source": [
    "### CENTERS"
   ]
  },
  {
   "cell_type": "code",
   "execution_count": 369,
   "metadata": {
    "collapsed": false
   },
   "outputs": [
    {
     "data": {
      "text/plain": [
       "0.5714285714285714"
      ]
     },
     "execution_count": 369,
     "metadata": {},
     "output_type": "execute_result"
    }
   ],
   "source": [
    "#create a train/test split of 80%/20%\n",
    "# assign static random seed =42\n",
    "X_train_Centers,X_test_Centers,y_train_Centers,y_test_Centers = train_test_split(X_scaled_Centers,y_Centers,\n",
    "test_size=0.2, random_state = 42)\n",
    "\n",
    "#fit model\n",
    "logreg_Centers = logreg.fit(X_train_Centers,y_train_Centers)\n",
    "\n",
    "#Predict on test data set\n",
    "logreg_Centers.predict(X_test_Centers)\n",
    "\n",
    "# Print score\n",
    "logreg_Centers.score(X_test_Centers, y_test_Centers)"
   ]
  },
  {
   "cell_type": "code",
   "execution_count": null,
   "metadata": {
    "collapsed": true
   },
   "outputs": [],
   "source": []
  }
 ],
 "metadata": {
  "kernelspec": {
   "display_name": "Python 3",
   "language": "python",
   "name": "python3"
  },
  "language_info": {
   "codemirror_mode": {
    "name": "ipython",
    "version": 3
   },
   "file_extension": ".py",
   "mimetype": "text/x-python",
   "name": "python",
   "nbconvert_exporter": "python",
   "pygments_lexer": "ipython3",
   "version": "3.6.0"
  }
 },
 "nbformat": 4,
 "nbformat_minor": 2
}
